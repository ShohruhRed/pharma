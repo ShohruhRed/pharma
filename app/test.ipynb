{
 "cells": [
  {
   "cell_type": "code",
   "execution_count": 4,
   "id": "0ff5aa40",
   "metadata": {},
   "outputs": [
    {
     "data": {
      "text/plain": [
       "('/mnt/data/ml_dataset_realistic.csv',\n",
       " '/mnt/data/defect_prob_distribution_realistic.png')"
      ]
     },
     "execution_count": 4,
     "metadata": {},
     "output_type": "execute_result"
    }
   ],
   "source": [
    "import numpy as np\n",
    "import pandas as pd\n",
    "import matplotlib.pyplot as plt\n",
    "import seaborn as sns\n",
    "\n",
    "# Установка случайного зерна для воспроизводимости\n",
    "np.random.seed(42)\n",
    "\n",
    "df = pd.read_csv(\"ml_dataset_balanced.csv\")\n",
    "\n",
    "# Копия исходного фрейма\n",
    "df_realistic = df.copy()\n",
    "\n",
    "# Вводим шум в параметры (±5% случайного отклонения)\n",
    "for col in [\"temperature\", \"pressure\", \"humidity\", \"NaCl\", \"KCl\"]:\n",
    "    noise = np.random.normal(0, 0.05, size=len(df_realistic))  # 5% отклонение\n",
    "    df_realistic[col] = df_realistic[col] * (1 + noise)\n",
    "\n",
    "# Пересчитываем вероятности дефекта с учетом \"нереалистичности\"\n",
    "# Простейшее приближение для эффекта на качество:\n",
    "df_realistic[\"defect_prob_realistic\"] = (\n",
    "    0.3 * (df_realistic[\"pressure\"] > 1.5).astype(float) +\n",
    "    0.3 * (df_realistic[\"humidity\"] < 30).astype(float) +\n",
    "    0.2 * (df_realistic[\"NaCl\"] < 0.3).astype(float) +\n",
    "    0.2 * (df_realistic[\"KCl\"] > 0.6).astype(float)\n",
    ")\n",
    "\n",
    "# Ограничим значения от 0 до 1\n",
    "df_realistic[\"defect_prob_realistic\"] = df_realistic[\"defect_prob_realistic\"].clip(0, 1)\n",
    "\n",
    "# Визуализация\n",
    "plt.figure(figsize=(10, 5))\n",
    "sns.histplot(df_realistic[\"defect_prob_realistic\"], bins=30, kde=False, color=\"salmon\", edgecolor=\"black\")\n",
    "plt.title(\"Распределение реалистичных вероятностей дефекта\")\n",
    "plt.xlabel(\"defect_prob_realistic\")\n",
    "plt.ylabel(\"Частота\")\n",
    "plt.grid(True)\n",
    "plt.tight_layout()\n",
    "plt.savefig(\"defect_prob_distribution_realistic.png\")\n",
    "plt.close()\n",
    "\n",
    "# Сохраняем новый датасет\n",
    "df_realistic.to_csv(\"ml_dataset_realistic.csv\", index=False)\n",
    "\n",
    "\"/mnt/data/ml_dataset_realistic.csv\", \"/mnt/data/defect_prob_distribution_realistic.png\"\n"
   ]
  },
  {
   "cell_type": "code",
   "execution_count": 5,
   "id": "260d8866",
   "metadata": {},
   "outputs": [
    {
     "name": "stdout",
     "output_type": "stream",
     "text": [
      "defect_prob_realistic\n",
      "0    1499\n",
      "1       1\n",
      "Name: count, dtype: int64\n"
     ]
    }
   ],
   "source": [
    "df = pd.read_csv(\"ml_dataset_realistic.csv\")\n",
    "y = (df[\"defect_prob_realistic\"] > 0.5).astype(int)\n",
    "print(y.value_counts())"
   ]
  },
  {
   "cell_type": "code",
   "execution_count": 7,
   "id": "e545d22d",
   "metadata": {},
   "outputs": [
    {
     "ename": "ModuleNotFoundError",
     "evalue": "No module named 'ace_tools'",
     "output_type": "error",
     "traceback": [
      "\u001b[1;31m---------------------------------------------------------------------------\u001b[0m",
      "\u001b[1;31mModuleNotFoundError\u001b[0m                       Traceback (most recent call last)",
      "Cell \u001b[1;32mIn[7], line 53\u001b[0m\n\u001b[0;32m     50\u001b[0m path \u001b[38;5;241m=\u001b[39m \u001b[38;5;124m\"\u001b[39m\u001b[38;5;124mml_dataset_realistic_v2.csv\u001b[39m\u001b[38;5;124m\"\u001b[39m\n\u001b[0;32m     51\u001b[0m df\u001b[38;5;241m.\u001b[39mto_csv(path, index\u001b[38;5;241m=\u001b[39m\u001b[38;5;28;01mFalse\u001b[39;00m)\n\u001b[1;32m---> 53\u001b[0m \u001b[38;5;28;01mimport\u001b[39;00m \u001b[38;5;21;01mace_tools\u001b[39;00m \u001b[38;5;28;01mas\u001b[39;00m \u001b[38;5;21;01mtools\u001b[39;00m; tools\u001b[38;5;241m.\u001b[39mdisplay_dataframe_to_user(name\u001b[38;5;241m=\u001b[39m\u001b[38;5;124m\"\u001b[39m\u001b[38;5;124mRealistic Dataset v2\u001b[39m\u001b[38;5;124m\"\u001b[39m, dataframe\u001b[38;5;241m=\u001b[39mdf)\n\u001b[0;32m     55\u001b[0m path\n",
      "\u001b[1;31mModuleNotFoundError\u001b[0m: No module named 'ace_tools'"
     ]
    }
   ],
   "source": [
    "import numpy as np\n",
    "import pandas as pd\n",
    "\n",
    "# Устанавливаем сид для воспроизводимости\n",
    "np.random.seed(42)\n",
    "\n",
    "# Кол-во примеров\n",
    "n_samples = 2000\n",
    "\n",
    "# 1. Генерация реалистичных данных\n",
    "temperature = np.random.normal(loc=32, scale=5, size=n_samples)       # 22–42°C\n",
    "pressure = np.random.normal(loc=1.15, scale=0.05, size=n_samples)     # 1.0–1.3 атм\n",
    "humidity = np.random.normal(loc=40, scale=5, size=n_samples)          # 30–50%\n",
    "NaCl = np.random.normal(loc=0.52, scale=0.03, size=n_samples)         # 0.45–0.6\n",
    "KCl = np.random.normal(loc=0.25, scale=0.02, size=n_samples)          # 0.20–0.3\n",
    "\n",
    "# Клипуем значения в пределах допустимых границ\n",
    "temperature = np.clip(temperature, 22, 42)\n",
    "pressure = np.clip(pressure, 1.0, 1.3)\n",
    "humidity = np.clip(humidity, 30, 50)\n",
    "NaCl = np.clip(NaCl, 0.45, 0.6)\n",
    "KCl = np.clip(KCl, 0.2, 0.3)\n",
    "\n",
    "# 2. Добавляем вероятностную модель дефекта\n",
    "defect_prob = (\n",
    "    0.3 * (temperature > 38).astype(float) +\n",
    "    0.3 * (humidity < 35).astype(float) +\n",
    "    0.2 * (pressure > 1.25).astype(float) +\n",
    "    0.1 * ((NaCl < 0.48) | (KCl > 0.28)).astype(float) +\n",
    "    np.random.normal(0, 0.05, n_samples)\n",
    ")\n",
    "\n",
    "defect_prob = np.clip(defect_prob, 0, 1)\n",
    "\n",
    "# Метка брака\n",
    "is_defect = (defect_prob > 0.5).astype(int)\n",
    "\n",
    "# Финальный DataFrame\n",
    "df = pd.DataFrame({\n",
    "    \"temperature\": temperature,\n",
    "    \"pressure\": pressure,\n",
    "    \"humidity\": humidity,\n",
    "    \"NaCl\": NaCl,\n",
    "    \"KCl\": KCl,\n",
    "    \"defect_prob\": defect_prob,\n",
    "    \"is_defect\": is_defect\n",
    "})\n",
    "\n",
    "# Сохраняем файл\n",
    "path = \"ml_dataset_realistic_v2.csv\"\n",
    "df.to_csv(path, index=False)\n",
    "\n",
    "import ace_tools as tools; tools.display_dataframe_to_user(name=\"Realistic Dataset v2\", dataframe=df)\n",
    "\n",
    "path\n"
   ]
  },
  {
   "cell_type": "code",
   "execution_count": 9,
   "id": "148c9d5f",
   "metadata": {},
   "outputs": [
    {
     "data": {
      "text/plain": [
       "is_defect\n",
       "0    978\n",
       "1    300\n",
       "Name: count, dtype: int64"
      ]
     },
     "execution_count": 9,
     "metadata": {},
     "output_type": "execute_result"
    }
   ],
   "source": [
    "df = pd.read_csv('ml_dataset_realistic_v3.csv')\n",
    "df['is_defect'].value_counts()"
   ]
  },
  {
   "cell_type": "code",
   "execution_count": 11,
   "id": "a026b752",
   "metadata": {},
   "outputs": [
    {
     "data": {
      "text/plain": [
       "is_defect\n",
       "0    1960\n",
       "1     300\n",
       "Name: count, dtype: int64"
      ]
     },
     "execution_count": 11,
     "metadata": {},
     "output_type": "execute_result"
    }
   ],
   "source": [
    "import pandas as pd\n",
    "import numpy as np\n",
    "\n",
    "# Загрузим текущий датасет\n",
    "df = pd.read_csv(\"ml_dataset_realistic_v2.csv\")\n",
    "\n",
    "# Кол-во нужных дефектов\n",
    "desired_defect_count = 300\n",
    "current_defect_count = df[\"is_defect\"].sum()\n",
    "additional_defects_needed = desired_defect_count - current_defect_count\n",
    "\n",
    "# Примерные \"опасные\" границы — выйдем за пределы нормальных значений\n",
    "def generate_defect_row():\n",
    "    return {\n",
    "        \"temperature\": np.random.uniform(68, 90),   # слишком высокая\n",
    "        \"pressure\": np.random.uniform(0.5, 1.0),     # слишком низкое\n",
    "        \"humidity\": np.random.uniform(10, 30),       # слишком сухо\n",
    "        \"NaCl\": np.random.uniform(0.05, 0.15),       # очень мало\n",
    "        \"KCl\": np.random.uniform(0.01, 0.1),          # почти нет\n",
    "        \"defect_prob\": np.random.uniform(0.85, 1.0),\n",
    "        \"is_defect\": 1\n",
    "    }\n",
    "\n",
    "# Сгенерируем и добавим в основной датасет\n",
    "new_defects = pd.DataFrame([generate_defect_row() for _ in range(additional_defects_needed)])\n",
    "df_augmented = pd.concat([df, new_defects], ignore_index=True)\n",
    "\n",
    "# Перемешаем строки\n",
    "df_augmented = df_augmented.sample(frac=1, random_state=42).reset_index(drop=True)\n",
    "\n",
    "# Сохраним обновлённый файл\n",
    "augmented_path = \"ml_dataset_realistic_v3.csv\"\n",
    "df_augmented.to_csv(augmented_path, index=False)\n",
    "\n",
    "# Вернём количество дефектов\n",
    "defect_counts = df_augmented['is_defect'].value_counts()\n",
    "defect_counts\n"
   ]
  },
  {
   "cell_type": "code",
   "execution_count": 12,
   "id": "e9828b3e",
   "metadata": {},
   "outputs": [
    {
     "data": {
      "image/png": "[encoded data removed]",
      "text/plain": [
       "<Figure size 640x480 with 1 Axes>"
      ]
     },
     "metadata": {},
     "output_type": "display_data"
    }
   ],
   "source": [
    "import pandas as pd\n",
    "import numpy as np\n",
    "import matplotlib.pyplot as plt\n",
    "\n",
    "# === 1. Кол-во записей\n",
    "n_samples = 2000\n",
    "defect_ratio = 0.2\n",
    "n_defects = int(n_samples * defect_ratio)\n",
    "n_normals = n_samples - n_defects\n",
    "\n",
    "# === 2. Функция генерации с шумом\n",
    "def generate_data(n, defect=False):\n",
    "    np.random.seed(42 if not defect else 99)\n",
    "    temperature = np.random.normal(loc=60 if not defect else 80, scale=5 if not defect else 7, size=n)\n",
    "    pressure = np.random.normal(loc=1.5 if not defect else 2.5, scale=0.2 if not defect else 0.3, size=n)\n",
    "    humidity = np.random.normal(loc=45 if not defect else 30, scale=5 if not defect else 8, size=n)\n",
    "    NaCl = np.random.normal(loc=0.5 if not defect else 0.7, scale=0.05, size=n)\n",
    "    KCl = np.random.normal(loc=0.25 if not defect else 0.4, scale=0.05, size=n)\n",
    "\n",
    "    data = pd.DataFrame({\n",
    "        \"temperature\": temperature,\n",
    "        \"pressure\": pressure,\n",
    "        \"humidity\": humidity,\n",
    "        \"NaCl\": NaCl,\n",
    "        \"KCl\": KCl,\n",
    "        \"is_defect\": 1 if defect else 0\n",
    "    })\n",
    "\n",
    "    return data\n",
    "\n",
    "# === 3. Генерация нормальных и дефектных данных\n",
    "normal_data = generate_data(n_normals, defect=False)\n",
    "defect_data = generate_data(n_defects, defect=True)\n",
    "\n",
    "# === 4. Объединение и перемешивание\n",
    "df_realistic_v4 = pd.concat([normal_data, defect_data], ignore_index=True)\n",
    "df_realistic_v4 = df_realistic_v4.sample(frac=1.0, random_state=42).reset_index(drop=True)\n",
    "\n",
    "# === 5. Сохранение\n",
    "df_realistic_v4.to_csv(\"ml_dataset_realistic_v4.csv\", index=False)\n",
    "\n",
    "# === 6. Быстрый просмотр сбалансированности\n",
    "df_realistic_v4['is_defect'].value_counts().plot(kind='bar', color=['green', 'red'])\n",
    "plt.title(\"Распределение классов в ml_dataset_realistic_v4.csv\")\n",
    "plt.xlabel(\"is_defect\")\n",
    "plt.ylabel(\"Количество\")\n",
    "plt.grid(True)\n",
    "plt.tight_layout()\n",
    "plt.show()\n"
   ]
  },
  {
   "cell_type": "code",
   "execution_count": 14,
   "id": "239a1c52",
   "metadata": {},
   "outputs": [],
   "source": [
    "import pandas as pd\n",
    "import numpy as np\n",
    "\n",
    "np.random.seed(42)\n",
    "\n",
    "# Кол-во примеров\n",
    "n_samples = 2000\n",
    "n_defective = n_samples // 2\n",
    "n_normal = n_samples - n_defective\n",
    "\n",
    "# ==== Функция генерации одного примера ====\n",
    "def generate_sample(defective=False):\n",
    "    # Базовые диапазоны (условно нормальные)\n",
    "    temp = np.random.normal(loc=50, scale=5)  # Температура\n",
    "    pressure = np.random.normal(loc=2, scale=0.3)\n",
    "    humidity = np.random.normal(loc=50, scale=10)\n",
    "    nacl = np.random.normal(loc=0.5, scale=0.05)\n",
    "    kcl = np.random.normal(loc=0.25, scale=0.03)\n",
    "\n",
    "    if defective:\n",
    "        # Вводим \"аномалии\"\n",
    "        if np.random.rand() < 0.5:\n",
    "            temp += np.random.uniform(20, 40)  # Перегрев\n",
    "        else:\n",
    "            temp -= np.random.uniform(20, 30)  # Переохлаждение\n",
    "\n",
    "        pressure += np.random.choice([-1.5, 1.5]) * np.random.uniform(0.5, 1.5)\n",
    "        humidity += np.random.choice([-1.0, 1.0]) * np.random.uniform(20, 40)\n",
    "        nacl += np.random.choice([-0.4, 0.4]) * np.random.uniform(0.1, 0.2)\n",
    "        kcl += np.random.choice([-0.3, 0.3]) * np.random.uniform(0.1, 0.2)\n",
    "\n",
    "    return [temp, pressure, humidity, nacl, kcl, int(defective)]\n",
    "\n",
    "# ==== Генерация всех примеров ====\n",
    "data = [generate_sample(defective=False) for _ in range(n_normal)] + \\\n",
    "       [generate_sample(defective=True) for _ in range(n_defective)]\n",
    "\n",
    "columns = [\"temperature\", \"pressure\", \"humidity\", \"NaCl\", \"KCl\", \"is_defect\"]\n",
    "df = pd.DataFrame(data, columns=columns)\n",
    "\n",
    "# Перемешиваем\n",
    "df = df.sample(frac=1.0, random_state=42).reset_index(drop=True)\n",
    "\n",
    "df.to_csv(\"balanced_final.csv\")\n"
   ]
  },
  {
   "cell_type": "code",
   "execution_count": null,
   "id": "622d6734",
   "metadata": {},
   "outputs": [
    {
     "ename": "ModuleNotFoundError",
     "evalue": "No module named 'torch'",
     "output_type": "error",
     "traceback": [
      "\u001b[1;31m---------------------------------------------------------------------------\u001b[0m",
      "\u001b[1;31mModuleNotFoundError\u001b[0m                       Traceback (most recent call last)",
      "Cell \u001b[1;32mIn[15], line 1\u001b[0m\n\u001b[1;32m----> 1\u001b[0m \u001b[38;5;28;01mimport\u001b[39;00m \u001b[38;5;21;01mtorch\u001b[39;00m\n\u001b[0;32m      2\u001b[0m \u001b[38;5;28;01mimport\u001b[39;00m \u001b[38;5;21;01mpickle\u001b[39;00m\n\u001b[0;32m      4\u001b[0m \u001b[38;5;66;03m# === Чтение конфигурации из .pkl файла ===\u001b[39;00m\n",
      "\u001b[1;31mModuleNotFoundError\u001b[0m: No module named 'torch'"
     ]
    }
   ],
   "source": [
    "import torch\n",
    "import pickle\n",
    "\n",
    "# === Чтение конфигурации из .pkl файла ===\n",
    "def load_pkl(file_path):\n",
    "    print(f\"Загрузка .pkl файла: {file_path}\")\n",
    "    with open(file_path, \"rb\") as f:\n",
    "        data = pickle.load(f)\n",
    "    print(\"Содержимое .pkl файла:\")\n",
    "    print(data)  # Вывод содержимого .pkl файла\n",
    "    return data\n",
    "\n",
    "# === Чтение параметров модели из .pt файла ===\n",
    "def load_pt(file_path):\n",
    "    print(f\"Загрузка .pt файла: {file_path}\")\n",
    "    model_state = torch.load(file_path)\n",
    "    print(\"Ключи state_dict модели:\")\n",
    "    for key in model_state.keys():\n",
    "        print(f\"- {key}\")  # Список ключей из state_dict\n",
    "    return model_state\n",
    "\n",
    "# === Анализ структуры модели SANFIS ===\n",
    "def analyze_model(model):\n",
    "    print(\"Анализ структуры модели SANFIS:\")\n",
    "    print(\"Доступные атрибуты:\")\n",
    "    print(dir(model))\n",
    "    print(\"Обучаемые параметры:\")\n",
    "    for name, param in model.named_parameters():\n",
    "        print(f\"- {name}: {param.shape}\")\n",
    "\n",
    "\n",
    "    # Укажите пути к вашим файлам\n",
    "    pkl_file = \"../sanfis_membfuncs.pkl\"\n",
    "    pt_file = \"../sanfis_model.pt\"\n",
    "\n",
    "    # Загрузка и анализ .pkl файла\n",
    "    membfuncs = load_pkl(pkl_file)\n",
    "\n",
    "    # Загрузка и анализ .pt файла\n",
    "    model_state = load_pt(pt_file)\n",
    "\n",
    "    # Если нужно загрузить модель и проанализировать её структуру\n",
    "    from sanfis import SANFIS  # Убедитесь, что библиотека SANFIS доступна\n",
    "\n",
    "    input_dim = len(membfuncs)  # Определяем количество входов из .pkl файла\n",
    "    model = SANFIS(membfuncs=membfuncs, n_input=input_dim)\n",
    "    model.load_state_dict(model_state)\n",
    "    analyze_model(model)\n"
   ]
  }
 ],
 "metadata": {
  "kernelspec": {
   "display_name": "Python 3",
   "language": "python",
   "name": "python3"
  },
  "language_info": {
   "codemirror_mode": {
    "name": "ipython",
    "version": 3
   },
   "file_extension": ".py",
   "mimetype": "text/x-python",
   "name": "python",
   "nbconvert_exporter": "python",
   "pygments_lexer": "ipython3",
   "version": "3.12.0"
  }
 },
 "nbformat": 4,
 "nbformat_minor": 5
}
