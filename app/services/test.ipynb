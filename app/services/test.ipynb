{
 "cells": [
  {
   "cell_type": "code",
   "execution_count": 2,
   "id": "8a339a06",
   "metadata": {},
   "outputs": [
    {
     "name": "stdout",
     "output_type": "stream",
     "text": [
      "✅ Реалистичный датасет создан и сохранён в `realistic_dataset.csv`!\n"
     ]
    }
   ],
   "source": [
    "import numpy as np\n",
    "import pandas as pd\n",
    "\n",
    "# === 1. Параметры датасета ===\n",
    "N_samples = 2000  # Общее число примеров\n",
    "defect_ratio = 0.15  # Доля дефектных лекарств (15%)\n",
    "\n",
    "# === 2. Генерация нормальных данных ===\n",
    "np.random.seed(42)\n",
    "temperature = np.random.normal(loc=25, scale=5, size=N_samples)  # °C, нормальное распределение\n",
    "pressure = np.random.normal(loc=2.5, scale=0.5, size=N_samples)  # Атм\n",
    "humidity = np.random.normal(loc=50, scale=15, size=N_samples)  # %\n",
    "NaCl = np.random.normal(loc=0.5, scale=0.1, size=N_samples)  # %\n",
    "KCl = np.random.normal(loc=0.3, scale=0.05, size=N_samples)  # %\n",
    "\n",
    "# === 3. Генерация дефектных данных ===\n",
    "num_defects = int(N_samples * defect_ratio)\n",
    "defect_indices = np.random.choice(N_samples, num_defects, replace=False)\n",
    "\n",
    "temperature[defect_indices] += np.random.uniform(10, 20, size=num_defects)  # Аномальный перегрев\n",
    "pressure[defect_indices] += np.random.uniform(1.0, 1.5, size=num_defects)  # Высокое давление\n",
    "humidity[defect_indices] += np.random.uniform(20, 40, size=num_defects)  # Слишком высокая влажность\n",
    "NaCl[defect_indices] -= np.random.uniform(0.2, 0.3, size=num_defects)  # Недостаток соли\n",
    "KCl[defect_indices] += np.random.uniform(0.1, 0.2, size=num_defects)  # Перебор калия\n",
    "\n",
    "# === 4. Создание меток (0 = нормальные, 1 = дефектные) ===\n",
    "labels = np.zeros(N_samples)\n",
    "labels[defect_indices] = 1  # Отмечаем дефектные примеры\n",
    "\n",
    "# === 5. Формирование финального датасета ===\n",
    "data = pd.DataFrame({\n",
    "    \"temperature\": temperature,\n",
    "    \"pressure\": pressure,\n",
    "    \"humidity\": humidity,\n",
    "    \"NaCl\": NaCl,\n",
    "    \"KCl\": KCl,\n",
    "    \"defect\": labels\n",
    "})\n",
    "\n",
    "# === 6. Сохранение датасета ===\n",
    "data.to_csv(\"../data/realistic_dataset.csv\", index=False)\n",
    "print(\"✅ Реалистичный датасет создан и сохранён в `realistic_dataset.csv`!\")\n"
   ]
  },
  {
   "cell_type": "code",
   "execution_count": 4,
   "id": "abcfe421",
   "metadata": {},
   "outputs": [
    {
     "name": "stdout",
     "output_type": "stream",
     "text": [
      "✅ Обновленный реалистичный датасет создан и сохранён в `realistic_dataset_v2.csv`!\n"
     ]
    }
   ],
   "source": [
    "import numpy as np\n",
    "import pandas as pd\n",
    "\n",
    "# === 1. Параметры датасета ===\n",
    "N_samples = 2000  # Общее число примеров\n",
    "defect_ratio = 0.15  # Доля дефектных лекарств (15%)\n",
    "\n",
    "# === 2. Генерация нормальных данных ===\n",
    "np.random.seed(42)\n",
    "temperature = np.random.normal(loc=25, scale=5, size=N_samples)  # °C, нормальное распределение\n",
    "pressure = np.random.normal(loc=2.5, scale=0.5, size=N_samples)  # Атм\n",
    "humidity = np.clip(70 - (temperature * 1.2) + np.random.normal(0, 5, size=N_samples), 10, 90)  # % с зависимостью от температуры\n",
    "NaCl = np.clip(0.5 + (pressure * 0.1) + np.random.normal(0, 0.05, size=N_samples), 0.1, 1.0)  # % с влиянием давления\n",
    "KCl = np.clip(0.3 - (pressure * 0.05) + np.random.normal(0, 0.02, size=N_samples), 0.1, 0.6)  # % с обратной зависимостью от давления\n",
    "\n",
    "# === 3. Генерация дефектных данных ===\n",
    "num_defects = int(N_samples * defect_ratio)\n",
    "defect_indices = np.random.choice(N_samples, num_defects, replace=False)\n",
    "\n",
    "temperature[defect_indices] += np.random.uniform(10, 20, size=num_defects)  # Аномальный перегрев\n",
    "pressure[defect_indices] += np.random.uniform(1.0, 1.5, size=num_defects)  # Высокое давление\n",
    "humidity[defect_indices] -= np.random.uniform(10, 30, size=num_defects)  # Чрезмерное испарение\n",
    "NaCl[defect_indices] -= np.random.uniform(0.3, 0.5, size=num_defects)  # Недостаток соли\n",
    "KCl[defect_indices] += np.random.uniform(0.1, 0.2, size=num_defects)  # Избыточное содержание калия\n",
    "\n",
    "# === 4. Создание меток (0 = нормальные, 1 = дефектные) ===\n",
    "labels = np.zeros(N_samples)\n",
    "labels[defect_indices] = 1  # Отмечаем дефектные примеры\n",
    "\n",
    "# === 5. Формирование финального датасета ===\n",
    "data = pd.DataFrame({\n",
    "    \"temperature\": temperature,\n",
    "    \"pressure\": pressure,\n",
    "    \"humidity\": humidity,\n",
    "    \"NaCl\": NaCl,\n",
    "    \"KCl\": KCl,\n",
    "    \"defect\": labels\n",
    "})\n",
    "\n",
    "# === 6. Сохранение датасета ===\n",
    "data.to_csv(\"../models/realistic_dataset_v2.csv\", index=False)\n",
    "print(\"✅ Обновленный реалистичный датасет создан и сохранён в `realistic_dataset_v2.csv`!\")\n"
   ]
  }
 ],
 "metadata": {
  "kernelspec": {
   "display_name": "Python 3",
   "language": "python",
   "name": "python3"
  },
  "language_info": {
   "codemirror_mode": {
    "name": "ipython",
    "version": 3
   },
   "file_extension": ".py",
   "mimetype": "text/x-python",
   "name": "python",
   "nbconvert_exporter": "python",
   "pygments_lexer": "ipython3",
   "version": "3.12.0"
  }
 },
 "nbformat": 4,
 "nbformat_minor": 5
}
